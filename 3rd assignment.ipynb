{
 "cells": [
  {
   "cell_type": "code",
   "execution_count": 1,
   "id": "dcee0f2a-738c-4863-b021-fc24d1d40bf5",
   "metadata": {},
   "outputs": [],
   "source": [
    "#Q1 Which keyword is used to create a function ? Create a function to return a list of odd numbers in the range of 1 to 25"
   ]
  },
  {
   "cell_type": "code",
   "execution_count": 2,
   "id": "39e4c214-8560-4431-994e-8b4b023035ff",
   "metadata": {},
   "outputs": [],
   "source": [
    "#ans: the \"def\" keyword is used to create a function or to define a function"
   ]
  },
  {
   "cell_type": "code",
   "execution_count": 3,
   "id": "efa1041e-5724-40f9-bce2-c88acafe774f",
   "metadata": {},
   "outputs": [],
   "source": [
    "l=[1,2,3,4,5,6,7,8,9,10,11,12,13,14,15,16,17,18,19,20,21,22,23,24,25]"
   ]
  },
  {
   "cell_type": "code",
   "execution_count": 5,
   "id": "1c533d8d-788c-4163-9d87-86207863f579",
   "metadata": {},
   "outputs": [
    {
     "ename": "NameError",
     "evalue": "name 'odd_numbers' is not defined",
     "output_type": "error",
     "traceback": [
      "\u001b[0;31m---------------------------------------------------------------------------\u001b[0m",
      "\u001b[0;31mNameError\u001b[0m                                 Traceback (most recent call last)",
      "Cell \u001b[0;32mIn[5], line 1\u001b[0m\n\u001b[0;32m----> 1\u001b[0m l\u001b[38;5;241m=\u001b[39m\u001b[43modd_numbers\u001b[49m()\n",
      "\u001b[0;31mNameError\u001b[0m: name 'odd_numbers' is not defined"
     ]
    }
   ],
   "source": [
    "l=odd_numbers()"
   ]
  },
  {
   "cell_type": "code",
   "execution_count": 7,
   "id": "9f37ef74-25ea-4c02-88f4-ba0422f17fc9",
   "metadata": {},
   "outputs": [
    {
     "data": {
      "text/plain": [
       "[1, 3, 5, 7, 9, 11, 13, 15, 17, 19, 21, 23, 25]"
      ]
     },
     "execution_count": 7,
     "metadata": {},
     "output_type": "execute_result"
    }
   ],
   "source": [
    "list(filter(lambda x:x%2==1,l))\n"
   ]
  },
  {
   "cell_type": "code",
   "execution_count": 8,
   "id": "0cced100-5890-4c52-af65-10f6e8dd9571",
   "metadata": {},
   "outputs": [
    {
     "data": {
      "text/plain": [
       "[1, 3, 5, 7, 9, 11, 13, 15, 17, 19, 21, 23, 25]"
      ]
     },
     "execution_count": 8,
     "metadata": {},
     "output_type": "execute_result"
    }
   ],
   "source": [
    "# or another method is:\n",
    "list(filter(lambda x:x%2!=0,l))"
   ]
  },
  {
   "cell_type": "code",
   "execution_count": 9,
   "id": "409b1a66-a71d-411e-9415-0c0fea45ee1b",
   "metadata": {},
   "outputs": [],
   "source": [
    "#Q2.Why *args and **kwargs is used in some functions? Create a function each for *args and **kwargs to demonstrate their use."
   ]
  },
  {
   "cell_type": "code",
   "execution_count": 1,
   "id": "4835e563-5712-47a5-a743-e65ad90e1940",
   "metadata": {},
   "outputs": [],
   "source": [
    "#ans:In python we can pass a variable number of arguments to a function using special symbols ,they are:\n",
    "#1.*args(non keyword arguments).  2) **kwargs(keyword arguments)\n",
    "# we use *args and **kwargs as an argument when we are ensure about the number of arguments to pass in the functions."
   ]
  },
  {
   "cell_type": "code",
   "execution_count": 4,
   "id": "217b63f1-bd4d-4737-8c21-f1e362dfb609",
   "metadata": {},
   "outputs": [],
   "source": [
    "#examples are:\n",
    "def test(*args,a=12):\n",
    "    return args,a"
   ]
  },
  {
   "cell_type": "code",
   "execution_count": 5,
   "id": "a34c1d75-ee67-4e84-8e4f-fb45b12b7e5d",
   "metadata": {},
   "outputs": [
    {
     "data": {
      "text/plain": [
       "((2, 3.5, 78, True, 'mustaqeem', (4+7j)), 12)"
      ]
     },
     "execution_count": 5,
     "metadata": {},
     "output_type": "execute_result"
    }
   ],
   "source": [
    "test(2,3.5,78,True,\"mustaqeem\",4+7j)"
   ]
  },
  {
   "cell_type": "code",
   "execution_count": 6,
   "id": "b35d2713-ada8-4bb9-ad97-79da8db060c8",
   "metadata": {},
   "outputs": [
    {
     "data": {
      "text/plain": [
       "function"
      ]
     },
     "execution_count": 6,
     "metadata": {},
     "output_type": "execute_result"
    }
   ],
   "source": [
    "type(test)"
   ]
  },
  {
   "cell_type": "code",
   "execution_count": 8,
   "id": "d492eae8-75f1-448b-9215-6549e378e505",
   "metadata": {},
   "outputs": [
    {
     "data": {
      "text/plain": [
       "tuple"
      ]
     },
     "execution_count": 8,
     "metadata": {},
     "output_type": "execute_result"
    }
   ],
   "source": [
    "type(test(2,3.5,78,True,\"mustaqeem\",4+7j))"
   ]
  },
  {
   "cell_type": "code",
   "execution_count": 17,
   "id": "7c81d361-6827-46bf-849c-33e7168a3bb5",
   "metadata": {},
   "outputs": [],
   "source": [
    "def test1(*args):\n",
    "    return args"
   ]
  },
  {
   "cell_type": "code",
   "execution_count": 18,
   "id": "362a84a0-6bac-45fa-9773-0b17a200a5a2",
   "metadata": {},
   "outputs": [
    {
     "data": {
      "text/plain": [
       "()"
      ]
     },
     "execution_count": 18,
     "metadata": {},
     "output_type": "execute_result"
    }
   ],
   "source": [
    "test1()"
   ]
  },
  {
   "cell_type": "code",
   "execution_count": 19,
   "id": "32a0c87f-c6cb-4b86-880c-dfe5d7b213f0",
   "metadata": {},
   "outputs": [
    {
     "data": {
      "text/plain": [
       "tuple"
      ]
     },
     "execution_count": 19,
     "metadata": {},
     "output_type": "execute_result"
    }
   ],
   "source": [
    "type(test1())"
   ]
  },
  {
   "cell_type": "code",
   "execution_count": 9,
   "id": "20fba2fb-8539-4c68-90cd-a9e9e2ee757b",
   "metadata": {},
   "outputs": [],
   "source": [
    "# here we can see that when *args function is executed ,then data type is in tuple()"
   ]
  },
  {
   "cell_type": "code",
   "execution_count": 21,
   "id": "29d42e0a-82ef-4256-beaf-fdb900fe0d08",
   "metadata": {},
   "outputs": [],
   "source": [
    "def test2(**kwargs):\n",
    "    return kwargs"
   ]
  },
  {
   "cell_type": "code",
   "execution_count": 22,
   "id": "f41a01d6-e522-4427-b8fe-bf85023aab64",
   "metadata": {},
   "outputs": [
    {
     "data": {
      "text/plain": [
       "{}"
      ]
     },
     "execution_count": 22,
     "metadata": {},
     "output_type": "execute_result"
    }
   ],
   "source": [
    "test2()"
   ]
  },
  {
   "cell_type": "code",
   "execution_count": 24,
   "id": "ffbfd711-b436-4b7d-b67f-f8843250ec0e",
   "metadata": {},
   "outputs": [
    {
     "data": {
      "text/plain": [
       "dict"
      ]
     },
     "execution_count": 24,
     "metadata": {},
     "output_type": "execute_result"
    }
   ],
   "source": [
    "type(test2())"
   ]
  },
  {
   "cell_type": "code",
   "execution_count": 25,
   "id": "64f45070-f5ae-4e62-bfd2-858b545a5593",
   "metadata": {},
   "outputs": [],
   "source": [
    "# here kwargs function is converting a function into dict ...it means it will be in pair also"
   ]
  },
  {
   "cell_type": "code",
   "execution_count": 29,
   "id": "5b3603d3-7299-4ff2-97f0-c0b6605d14ac",
   "metadata": {},
   "outputs": [
    {
     "data": {
      "text/plain": [
       "{'black': 23, 'complex': (2+9j), 'string': 'mustaqeem'}"
      ]
     },
     "execution_count": 29,
     "metadata": {},
     "output_type": "execute_result"
    }
   ],
   "source": [
    "test2(black=23,complex=2+9j,string=\"mustaqeem\")"
   ]
  },
  {
   "cell_type": "code",
   "execution_count": 31,
   "id": "85a3a272-3346-4a1a-bf22-d07dc519c950",
   "metadata": {},
   "outputs": [],
   "source": [
    "#Q3.What is an iterator in python ?name the method used to initialise the iterator object and the method use for \n",
    "   #iteration. Use these methods to print the first five elements of the given list [2,4,6,8,10,12,14,16,18,20]"
   ]
  },
  {
   "cell_type": "code",
   "execution_count": 1,
   "id": "d9ab9624-2b01-420c-9303-d2a543ee79df",
   "metadata": {},
   "outputs": [],
   "source": [
    " #ans: an iterator in python is an object that is used to iterate over iterable objects like list, tuples ,dicts and \n",
    "     #sets .The python iterators object is initialized using the {iter()} snd it uses the{next()} method for iteration"
   ]
  },
  {
   "cell_type": "code",
   "execution_count": 6,
   "id": "bd5ee8bc-b564-42eb-a2ef-730f98c7ac6a",
   "metadata": {},
   "outputs": [],
   "source": [
    "l1=[2,4,6,8,10,12,14,16,18,20]"
   ]
  },
  {
   "cell_type": "code",
   "execution_count": 8,
   "id": "906a4e10-37a7-47cc-b3de-fccec92c40cf",
   "metadata": {},
   "outputs": [
    {
     "name": "stdout",
     "output_type": "stream",
     "text": [
      "2\n",
      "4\n",
      "6\n",
      "8\n",
      "10\n",
      "12\n",
      "14\n",
      "16\n",
      "18\n",
      "20\n"
     ]
    }
   ],
   "source": [
    "for m in l1:\n",
    "    print(m)"
   ]
  },
  {
   "cell_type": "code",
   "execution_count": 9,
   "id": "02659310-35f5-4026-976b-9eda3a49db21",
   "metadata": {},
   "outputs": [],
   "source": [
    "b=iter(l1)"
   ]
  },
  {
   "cell_type": "code",
   "execution_count": 11,
   "id": "8c26c644-620f-4c3b-be20-176b63d63934",
   "metadata": {},
   "outputs": [
    {
     "data": {
      "text/plain": [
       "2"
      ]
     },
     "execution_count": 11,
     "metadata": {},
     "output_type": "execute_result"
    }
   ],
   "source": [
    "next(b)"
   ]
  },
  {
   "cell_type": "code",
   "execution_count": 12,
   "id": "0a708b37-74a1-443a-9a4d-c458d2d5954d",
   "metadata": {},
   "outputs": [
    {
     "data": {
      "text/plain": [
       "4"
      ]
     },
     "execution_count": 12,
     "metadata": {},
     "output_type": "execute_result"
    }
   ],
   "source": [
    "next(b)"
   ]
  },
  {
   "cell_type": "code",
   "execution_count": 13,
   "id": "04a86f97-54e0-4935-bf94-358f24f2bb1c",
   "metadata": {},
   "outputs": [
    {
     "data": {
      "text/plain": [
       "6"
      ]
     },
     "execution_count": 13,
     "metadata": {},
     "output_type": "execute_result"
    }
   ],
   "source": [
    "next(b)"
   ]
  },
  {
   "cell_type": "code",
   "execution_count": 14,
   "id": "ae1b09ab-3a3b-490d-924a-1db73e6c99bf",
   "metadata": {},
   "outputs": [
    {
     "data": {
      "text/plain": [
       "8"
      ]
     },
     "execution_count": 14,
     "metadata": {},
     "output_type": "execute_result"
    }
   ],
   "source": [
    "next(b)"
   ]
  },
  {
   "cell_type": "code",
   "execution_count": 15,
   "id": "70be266e-746a-4b6b-93f7-688a7ea08c8d",
   "metadata": {},
   "outputs": [
    {
     "data": {
      "text/plain": [
       "10"
      ]
     },
     "execution_count": 15,
     "metadata": {},
     "output_type": "execute_result"
    }
   ],
   "source": [
    "next(b)"
   ]
  },
  {
   "cell_type": "code",
   "execution_count": 16,
   "id": "ee2ac37f-ef4d-4cc4-9618-dab16b427349",
   "metadata": {},
   "outputs": [],
   "source": [
    "#Q4.What is generator function in Python? Why yield keyword is used ? give an example of a generator function"
   ]
  },
  {
   "cell_type": "code",
   "execution_count": 17,
   "id": "eb90a376-c350-4fbd-91d4-4a38945f2436",
   "metadata": {},
   "outputs": [],
   "source": [
    "#ans:A Python generator function allows us to declare a function that behaves like an iterator, providing a faster \n",
    "    # and easier way to create iterators.\n",
    "    # Yield keyword is used to create a generator function .\n",
    "    # A type of function that is memory efficient and can be used like an iterator object."
   ]
  },
  {
   "cell_type": "code",
   "execution_count": 23,
   "id": "f12946be-2d57-4b1e-a4c8-c03f3a42349a",
   "metadata": {},
   "outputs": [],
   "source": [
    "s=(1,2,3,4,5,6,7,8)\n",
    "def gen_fun(s):\n",
    "    for i in range (s):\n",
    "        yield i"
   ]
  },
  {
   "cell_type": "code",
   "execution_count": 24,
   "id": "b133b755-a9e1-4359-9524-7a36f0a4ad9c",
   "metadata": {},
   "outputs": [
    {
     "data": {
      "text/plain": [
       "<generator object gen_func at 0x7f583de4a8f0>"
      ]
     },
     "execution_count": 24,
     "metadata": {},
     "output_type": "execute_result"
    }
   ],
   "source": [
    "gen_func(x)"
   ]
  },
  {
   "cell_type": "code",
   "execution_count": 25,
   "id": "08fd07d5-4332-476c-ba3c-5f47f1147ba5",
   "metadata": {},
   "outputs": [
    {
     "data": {
      "text/plain": [
       "generator"
      ]
     },
     "execution_count": 25,
     "metadata": {},
     "output_type": "execute_result"
    }
   ],
   "source": [
    "type(gen_func(x))"
   ]
  },
  {
   "cell_type": "code",
   "execution_count": 38,
   "id": "4009d66b-8cca-4830-8a5d-eeaf16235fb2",
   "metadata": {},
   "outputs": [],
   "source": [
    "def count_test(n):\n",
    "    count=1\n",
    "    while count<=n:\n",
    "        yield count\n",
    "        count=count*5"
   ]
  },
  {
   "cell_type": "code",
   "execution_count": 30,
   "id": "6370861c-aadd-41f5-a756-8eea08b3c061",
   "metadata": {},
   "outputs": [],
   "source": [
    "d=count_test(10)"
   ]
  },
  {
   "cell_type": "code",
   "execution_count": 33,
   "id": "870268de-178a-4ea8-8d3a-77ead138763a",
   "metadata": {},
   "outputs": [
    {
     "name": "stdout",
     "output_type": "stream",
     "text": [
      "1\n",
      "5\n"
     ]
    }
   ],
   "source": [
    "for i in d:\n",
    "    print(i)"
   ]
  },
  {
   "cell_type": "code",
   "execution_count": 34,
   "id": "9221e4f1-2964-48a6-9795-f1bec23a95ab",
   "metadata": {},
   "outputs": [],
   "source": [
    "d=count_test(100)"
   ]
  },
  {
   "cell_type": "code",
   "execution_count": 35,
   "id": "9fd0835f-6cb7-4112-a582-37091cee5091",
   "metadata": {},
   "outputs": [
    {
     "name": "stdout",
     "output_type": "stream",
     "text": [
      "1\n",
      "5\n",
      "25\n"
     ]
    }
   ],
   "source": [
    "for i in d:\n",
    "    print(i)"
   ]
  },
  {
   "cell_type": "code",
   "execution_count": 36,
   "id": "658893a4-06c2-44ee-b31f-db3c0ab1b8ee",
   "metadata": {},
   "outputs": [],
   "source": [
    "d=count_test(600)"
   ]
  },
  {
   "cell_type": "code",
   "execution_count": 37,
   "id": "7257eb3a-b129-494a-aca6-e268ab13d697",
   "metadata": {},
   "outputs": [
    {
     "name": "stdout",
     "output_type": "stream",
     "text": [
      "1\n",
      "5\n",
      "25\n",
      "125\n"
     ]
    }
   ],
   "source": [
    "for i in d:\n",
    "    print(i)"
   ]
  },
  {
   "cell_type": "code",
   "execution_count": 39,
   "id": "5c050005-d70f-401b-8eaa-15573e7d32cb",
   "metadata": {},
   "outputs": [],
   "source": [
    "def count_test(n):\n",
    "    count=1\n",
    "    while count<=n:\n",
    "        yield count\n",
    "        count=count+3"
   ]
  },
  {
   "cell_type": "code",
   "execution_count": 40,
   "id": "58fc1ade-02d3-4c20-8b5e-042403c5a6bc",
   "metadata": {},
   "outputs": [],
   "source": [
    "e=count_test(30)"
   ]
  },
  {
   "cell_type": "code",
   "execution_count": 43,
   "id": "4751037c-ad27-4ec3-a7a2-687630e065ff",
   "metadata": {},
   "outputs": [
    {
     "name": "stdout",
     "output_type": "stream",
     "text": [
      "1\n",
      "4\n",
      "7\n",
      "10\n",
      "13\n",
      "16\n",
      "19\n",
      "22\n",
      "25\n",
      "28\n"
     ]
    }
   ],
   "source": [
    "for i in e:\n",
    "    print(i)"
   ]
  },
  {
   "cell_type": "code",
   "execution_count": 45,
   "id": "9e0866c5-3285-4d56-b656-0b91b3a22257",
   "metadata": {},
   "outputs": [],
   "source": [
    "#Q5.Create a generator function for prime numbers less than 1000. Use the next() method to print the first 20 prime numbers"
   ]
  },
  {
   "cell_type": "code",
   "execution_count": 18,
   "id": "618d2b3d-dda9-4c48-ab1e-3cdf288c88c4",
   "metadata": {},
   "outputs": [],
   "source": [
    "def prime(num):\n",
    "    if num < 2: return False\n",
    "    for i in range (2, int(num**0.5)+1):\n",
    "        if num%i == 0:\n",
    "            return False\n",
    "    return True\n"
   ]
  },
  {
   "cell_type": "code",
   "execution_count": 19,
   "id": "957bc92d-e917-4781-8648-44831dd16cd2",
   "metadata": {},
   "outputs": [],
   "source": [
    "def prime_genrator():\n",
    "    for i in range(1000):\n",
    "        if prime(i):\n",
    "            yield i"
   ]
  },
  {
   "cell_type": "code",
   "execution_count": 20,
   "id": "4e9f4600-ee0e-44fa-8bc1-e6d64322e269",
   "metadata": {},
   "outputs": [
    {
     "data": {
      "text/plain": [
       "[2, 3, 5, 7, 11, 13, 17, 19, 23, 29, 31, 37, 41, 43, 47, 53, 59, 61, 67, 71]"
      ]
     },
     "execution_count": 20,
     "metadata": {},
     "output_type": "execute_result"
    }
   ],
   "source": [
    "prime_num = prime_genrator()\n",
    "\n",
    "[next(prime_num) for i in range(20)]"
   ]
  },
  {
   "cell_type": "code",
   "execution_count": 21,
   "id": "3cd750e9-ceab-4f92-8acd-e406227d0557",
   "metadata": {},
   "outputs": [],
   "source": [
    "l3=[2, 3, 5, 7, 11, 13, 17, 19, 23, 29, 31, 37, 41, 43, 47, 53, 59, 61, 67, 71]"
   ]
  },
  {
   "cell_type": "code",
   "execution_count": 22,
   "id": "490cea75-bc0a-4d09-9687-3f40f475ed56",
   "metadata": {},
   "outputs": [],
   "source": [
    "l4=iter(l3)"
   ]
  },
  {
   "cell_type": "code",
   "execution_count": 23,
   "id": "af2a88c6-7743-4096-b454-74c224931d0d",
   "metadata": {},
   "outputs": [
    {
     "data": {
      "text/plain": [
       "2"
      ]
     },
     "execution_count": 23,
     "metadata": {},
     "output_type": "execute_result"
    }
   ],
   "source": [
    "next(l4)"
   ]
  },
  {
   "cell_type": "code",
   "execution_count": 24,
   "id": "db222350-5720-4e4b-a3ae-ae1c383e59b2",
   "metadata": {},
   "outputs": [
    {
     "data": {
      "text/plain": [
       "3"
      ]
     },
     "execution_count": 24,
     "metadata": {},
     "output_type": "execute_result"
    }
   ],
   "source": [
    "next(l4)"
   ]
  },
  {
   "cell_type": "code",
   "execution_count": 25,
   "id": "b6aabc35-44e4-40f7-9675-aba72be8f690",
   "metadata": {},
   "outputs": [
    {
     "data": {
      "text/plain": [
       "5"
      ]
     },
     "execution_count": 25,
     "metadata": {},
     "output_type": "execute_result"
    }
   ],
   "source": [
    "next(l4)"
   ]
  },
  {
   "cell_type": "code",
   "execution_count": 26,
   "id": "fa759a37-9ce0-4748-82ca-07a28c117dc1",
   "metadata": {},
   "outputs": [
    {
     "data": {
      "text/plain": [
       "7"
      ]
     },
     "execution_count": 26,
     "metadata": {},
     "output_type": "execute_result"
    }
   ],
   "source": [
    "next(l4)"
   ]
  },
  {
   "cell_type": "code",
   "execution_count": 27,
   "id": "241deb3f-80c5-463c-b099-401d9e94dc99",
   "metadata": {},
   "outputs": [
    {
     "data": {
      "text/plain": [
       "11"
      ]
     },
     "execution_count": 27,
     "metadata": {},
     "output_type": "execute_result"
    }
   ],
   "source": [
    "next(l4)"
   ]
  },
  {
   "cell_type": "code",
   "execution_count": 28,
   "id": "9ff39362-b791-4b88-b28a-f255aa982b51",
   "metadata": {},
   "outputs": [
    {
     "data": {
      "text/plain": [
       "13"
      ]
     },
     "execution_count": 28,
     "metadata": {},
     "output_type": "execute_result"
    }
   ],
   "source": [
    "next(l4)"
   ]
  },
  {
   "cell_type": "code",
   "execution_count": 29,
   "id": "d7da83b0-e50c-40d4-a7dd-5e93e03bd0ff",
   "metadata": {},
   "outputs": [
    {
     "data": {
      "text/plain": [
       "17"
      ]
     },
     "execution_count": 29,
     "metadata": {},
     "output_type": "execute_result"
    }
   ],
   "source": [
    "next(l4)"
   ]
  },
  {
   "cell_type": "code",
   "execution_count": 30,
   "id": "a39eb8df-bfae-46c1-b787-d1a8955da758",
   "metadata": {},
   "outputs": [
    {
     "data": {
      "text/plain": [
       "19"
      ]
     },
     "execution_count": 30,
     "metadata": {},
     "output_type": "execute_result"
    }
   ],
   "source": [
    "next(l4)"
   ]
  },
  {
   "cell_type": "code",
   "execution_count": 31,
   "id": "ac8095e3-c0f6-4714-b62b-fb26d834aaab",
   "metadata": {},
   "outputs": [
    {
     "data": {
      "text/plain": [
       "23"
      ]
     },
     "execution_count": 31,
     "metadata": {},
     "output_type": "execute_result"
    }
   ],
   "source": [
    "next(l4)"
   ]
  },
  {
   "cell_type": "code",
   "execution_count": 32,
   "id": "667e5bbc-1ae2-42f7-a0c1-87687d94b70f",
   "metadata": {},
   "outputs": [
    {
     "data": {
      "text/plain": [
       "29"
      ]
     },
     "execution_count": 32,
     "metadata": {},
     "output_type": "execute_result"
    }
   ],
   "source": [
    "next(l4)"
   ]
  },
  {
   "cell_type": "code",
   "execution_count": 33,
   "id": "fa073719-ef93-41fd-ba30-a22484ab5bf0",
   "metadata": {},
   "outputs": [
    {
     "data": {
      "text/plain": [
       "31"
      ]
     },
     "execution_count": 33,
     "metadata": {},
     "output_type": "execute_result"
    }
   ],
   "source": [
    "next(l4)"
   ]
  },
  {
   "cell_type": "code",
   "execution_count": 34,
   "id": "dcdf52dc-b2d4-4f50-8510-1c6fece80c13",
   "metadata": {},
   "outputs": [
    {
     "data": {
      "text/plain": [
       "37"
      ]
     },
     "execution_count": 34,
     "metadata": {},
     "output_type": "execute_result"
    }
   ],
   "source": [
    "next(l4)"
   ]
  },
  {
   "cell_type": "code",
   "execution_count": 35,
   "id": "210359dc-fc2b-4664-8512-07de50194ab4",
   "metadata": {},
   "outputs": [
    {
     "data": {
      "text/plain": [
       "41"
      ]
     },
     "execution_count": 35,
     "metadata": {},
     "output_type": "execute_result"
    }
   ],
   "source": [
    "next(l4)"
   ]
  },
  {
   "cell_type": "code",
   "execution_count": 36,
   "id": "a7f5082a-d625-4da6-aa1b-f322fd538980",
   "metadata": {},
   "outputs": [
    {
     "data": {
      "text/plain": [
       "43"
      ]
     },
     "execution_count": 36,
     "metadata": {},
     "output_type": "execute_result"
    }
   ],
   "source": [
    "next(l4)"
   ]
  },
  {
   "cell_type": "code",
   "execution_count": 37,
   "id": "71b83482-e3e0-4648-9002-24a569db98d8",
   "metadata": {},
   "outputs": [
    {
     "data": {
      "text/plain": [
       "47"
      ]
     },
     "execution_count": 37,
     "metadata": {},
     "output_type": "execute_result"
    }
   ],
   "source": [
    "next(l4)"
   ]
  },
  {
   "cell_type": "code",
   "execution_count": 38,
   "id": "d51bb666-9beb-4785-8b34-c7a3601b94a1",
   "metadata": {},
   "outputs": [
    {
     "data": {
      "text/plain": [
       "53"
      ]
     },
     "execution_count": 38,
     "metadata": {},
     "output_type": "execute_result"
    }
   ],
   "source": [
    "next(l4)"
   ]
  },
  {
   "cell_type": "code",
   "execution_count": 39,
   "id": "fc7f59ee-3387-4868-87c4-bf85af12ce5e",
   "metadata": {},
   "outputs": [
    {
     "data": {
      "text/plain": [
       "59"
      ]
     },
     "execution_count": 39,
     "metadata": {},
     "output_type": "execute_result"
    }
   ],
   "source": [
    "next(l4)"
   ]
  },
  {
   "cell_type": "code",
   "execution_count": 40,
   "id": "abfc0c61-c6c2-41ac-a4da-b82dc58d2aba",
   "metadata": {},
   "outputs": [
    {
     "data": {
      "text/plain": [
       "61"
      ]
     },
     "execution_count": 40,
     "metadata": {},
     "output_type": "execute_result"
    }
   ],
   "source": [
    "next(l4)"
   ]
  },
  {
   "cell_type": "code",
   "execution_count": 41,
   "id": "fbf9cf04-4fdb-4859-9506-0dfaa676c518",
   "metadata": {},
   "outputs": [
    {
     "data": {
      "text/plain": [
       "67"
      ]
     },
     "execution_count": 41,
     "metadata": {},
     "output_type": "execute_result"
    }
   ],
   "source": [
    "next(l4)"
   ]
  },
  {
   "cell_type": "code",
   "execution_count": 42,
   "id": "634d38cb-23fa-4bc9-8b4b-60d18467628a",
   "metadata": {},
   "outputs": [
    {
     "data": {
      "text/plain": [
       "71"
      ]
     },
     "execution_count": 42,
     "metadata": {},
     "output_type": "execute_result"
    }
   ],
   "source": [
    "next(l4)"
   ]
  },
  {
   "cell_type": "code",
   "execution_count": 1,
   "id": "cc627b5d-1b35-44ad-b45b-bcea2859d45a",
   "metadata": {},
   "outputs": [],
   "source": [
    "#Q6.Write a python program to print the first 10 fibonacci numbers using a while loop.\n",
    "#ans:\n",
    "def test_fib(n):\n",
    "    a,b=3,1\n",
    "    for i in range(n):\n",
    "        yield a\n",
    "        a,b=b,a+b\n",
    "        "
   ]
  },
  {
   "cell_type": "code",
   "execution_count": 2,
   "id": "9c1ac904-37af-4e6a-a1cf-2f21e23f2ccb",
   "metadata": {},
   "outputs": [
    {
     "data": {
      "text/plain": [
       "<generator object test_fib at 0x7f7c10b81e70>"
      ]
     },
     "execution_count": 2,
     "metadata": {},
     "output_type": "execute_result"
    }
   ],
   "source": [
    "test_fib(10)"
   ]
  },
  {
   "cell_type": "code",
   "execution_count": 3,
   "id": "e7902012-4f69-4e8f-8078-d477abe1eddf",
   "metadata": {},
   "outputs": [
    {
     "name": "stdout",
     "output_type": "stream",
     "text": [
      "3\n",
      "1\n",
      "4\n",
      "5\n",
      "9\n",
      "14\n",
      "23\n",
      "37\n",
      "60\n",
      "97\n"
     ]
    }
   ],
   "source": [
    "for i in test_fib(10):\n",
    "    print(i)"
   ]
  },
  {
   "cell_type": "code",
   "execution_count": 4,
   "id": "3b4ef1df-13f3-4173-a878-fba07ca3599b",
   "metadata": {},
   "outputs": [],
   "source": [
    "def test_fib1(n):\n",
    "    a,b=3,1\n",
    "    for i in range(n):\n",
    "        yield b\n",
    "        a,b=b,a+b"
   ]
  },
  {
   "cell_type": "code",
   "execution_count": 5,
   "id": "a8bbfd3d-f421-46cf-bb22-2255d056c473",
   "metadata": {},
   "outputs": [
    {
     "data": {
      "text/plain": [
       "<generator object test_fib1 at 0x7f7c10b823b0>"
      ]
     },
     "execution_count": 5,
     "metadata": {},
     "output_type": "execute_result"
    }
   ],
   "source": [
    "test_fib1(10)"
   ]
  },
  {
   "cell_type": "code",
   "execution_count": 6,
   "id": "647e44fa-6280-4636-afd8-c81fae3cea40",
   "metadata": {},
   "outputs": [
    {
     "name": "stdout",
     "output_type": "stream",
     "text": [
      "1\n",
      "4\n",
      "5\n",
      "9\n",
      "14\n",
      "23\n",
      "37\n",
      "60\n",
      "97\n",
      "157\n"
     ]
    }
   ],
   "source": [
    "for i in test_fib1(10):\n",
    "    print (i)"
   ]
  },
  {
   "cell_type": "code",
   "execution_count": 7,
   "id": "545dd474-72bf-4189-895a-728310c7dc83",
   "metadata": {},
   "outputs": [],
   "source": [
    "#Q7.Write a list comprehension to iterate through the given string:'pwskills'.Expected output:['p','w','s','k','i','l','l','s']"
   ]
  },
  {
   "cell_type": "code",
   "execution_count": 8,
   "id": "30933b49-aab9-4112-a938-ca448178cf5e",
   "metadata": {},
   "outputs": [],
   "source": [
    "t='pwskills'"
   ]
  },
  {
   "cell_type": "code",
   "execution_count": 10,
   "id": "6822153d-74f7-4278-b3f0-f9cd5321c636",
   "metadata": {},
   "outputs": [
    {
     "data": {
      "text/plain": [
       "'pwskills'"
      ]
     },
     "execution_count": 10,
     "metadata": {},
     "output_type": "execute_result"
    }
   ],
   "source": [
    "t.lower()"
   ]
  },
  {
   "cell_type": "code",
   "execution_count": 12,
   "id": "5fbcb869-1a26-4d11-bf11-e320da403335",
   "metadata": {},
   "outputs": [
    {
     "data": {
      "text/plain": [
       "['p', 'w', 's', 'k', 'i', 'l', 'l', 's']"
      ]
     },
     "execution_count": 12,
     "metadata": {},
     "output_type": "execute_result"
    }
   ],
   "source": [
    "list(map(lambda t: t.lower(),t))"
   ]
  },
  {
   "cell_type": "code",
   "execution_count": 13,
   "id": "1da9228b-ec18-4b34-9887-0544c8638675",
   "metadata": {},
   "outputs": [],
   "source": [
    "#Q8.Write a python program to check whether a given number is Palindrome or not using a while loop."
   ]
  },
  {
   "cell_type": "code",
   "execution_count": 43,
   "id": "4d5d0d92-b10e-4b69-afc6-2942a2b4ebd8",
   "metadata": {},
   "outputs": [
    {
     "name": "stdin",
     "output_type": "stream",
     "text": [
      "Enter number to check is Palindrome:  14151\n"
     ]
    },
    {
     "name": "stdout",
     "output_type": "stream",
     "text": [
      "14151 is not a Palindrome number\n"
     ]
    }
   ],
   "source": [
    "user= int(input('Enter number to check is Palindrome: '))\n",
    "inital_num= user\n",
    "num= inital_num\n",
    "rev_num= 0\n",
    "\n",
    "while num>0:\n",
    "    x= num%10 #last digit\n",
    "    rev_num = rev_num* 10 + x \n",
    "    num//=10 #remove last digit\n",
    "\n",
    "if rev_num == inital_num:\n",
    "    print(f'{inital_num} is a Palindrome number')\n",
    "else:\n",
    "    print(f'{inital_num} is not a Palindrome number')"
   ]
  },
  {
   "cell_type": "code",
   "execution_count": 45,
   "id": "2cdd6e7d-ff8b-4c1f-b2bb-e17c89d1777a",
   "metadata": {},
   "outputs": [
    {
     "name": "stdin",
     "output_type": "stream",
     "text": [
      "Enter number to check is Palindrome:  1778771\n"
     ]
    },
    {
     "name": "stdout",
     "output_type": "stream",
     "text": [
      "1778771 is a Palindrome number\n"
     ]
    }
   ],
   "source": [
    "user= int(input('Enter number to check is Palindrome: '))\n",
    "inital_num= user\n",
    "num= inital_num\n",
    "rev_num= 0\n",
    "\n",
    "while num>0:\n",
    "    x= num%10 #last digit\n",
    "    rev_num = rev_num* 10 + x \n",
    "    num//=10 #remove last digit\n",
    "\n",
    "if rev_num == inital_num:\n",
    "    print(f'{inital_num} is a Palindrome number')\n",
    "else:\n",
    "    print(f'{inital_num} is not a Palindrome number')"
   ]
  },
  {
   "cell_type": "code",
   "execution_count": 17,
   "id": "7069bfe2-054f-4ec9-ba9c-a482de6fe208",
   "metadata": {},
   "outputs": [],
   "source": [
    "#Q9. Write a code to print odd numbers from 1 to 1000 using list comprehension"
   ]
  },
  {
   "cell_type": "code",
   "execution_count": 50,
   "id": "e2920bf5-bb88-436d-a74d-9833eebee978",
   "metadata": {},
   "outputs": [],
   "source": [
    "#ans:\n",
    "l5=[ i for i in range(1,101)]\n"
   ]
  },
  {
   "cell_type": "code",
   "execution_count": 51,
   "id": "44649c3a-f841-45ee-a28f-62109a2cb7c2",
   "metadata": {},
   "outputs": [],
   "source": [
    "l6=list(filter(lambda x:x%2==1,l5))"
   ]
  },
  {
   "cell_type": "code",
   "execution_count": 52,
   "id": "e3dac6f2-3f3d-409a-9add-234542bf67a0",
   "metadata": {},
   "outputs": [
    {
     "data": {
      "text/plain": [
       "[1,\n",
       " 3,\n",
       " 5,\n",
       " 7,\n",
       " 9,\n",
       " 11,\n",
       " 13,\n",
       " 15,\n",
       " 17,\n",
       " 19,\n",
       " 21,\n",
       " 23,\n",
       " 25,\n",
       " 27,\n",
       " 29,\n",
       " 31,\n",
       " 33,\n",
       " 35,\n",
       " 37,\n",
       " 39,\n",
       " 41,\n",
       " 43,\n",
       " 45,\n",
       " 47,\n",
       " 49,\n",
       " 51,\n",
       " 53,\n",
       " 55,\n",
       " 57,\n",
       " 59,\n",
       " 61,\n",
       " 63,\n",
       " 65,\n",
       " 67,\n",
       " 69,\n",
       " 71,\n",
       " 73,\n",
       " 75,\n",
       " 77,\n",
       " 79,\n",
       " 81,\n",
       " 83,\n",
       " 85,\n",
       " 87,\n",
       " 89,\n",
       " 91,\n",
       " 93,\n",
       " 95,\n",
       " 97,\n",
       " 99]"
      ]
     },
     "execution_count": 52,
     "metadata": {},
     "output_type": "execute_result"
    }
   ],
   "source": [
    "l6"
   ]
  },
  {
   "cell_type": "code",
   "execution_count": 53,
   "id": "020ccafc-8d83-4247-a28e-8e0502f15e58",
   "metadata": {},
   "outputs": [],
   "source": [
    "#there is another method :\n",
    "l7=list(filter(lambda x:x%2!=0,l5))"
   ]
  },
  {
   "cell_type": "code",
   "execution_count": 54,
   "id": "6f192aa9-5a25-455f-b594-eaa9c9889872",
   "metadata": {},
   "outputs": [
    {
     "data": {
      "text/plain": [
       "[1,\n",
       " 3,\n",
       " 5,\n",
       " 7,\n",
       " 9,\n",
       " 11,\n",
       " 13,\n",
       " 15,\n",
       " 17,\n",
       " 19,\n",
       " 21,\n",
       " 23,\n",
       " 25,\n",
       " 27,\n",
       " 29,\n",
       " 31,\n",
       " 33,\n",
       " 35,\n",
       " 37,\n",
       " 39,\n",
       " 41,\n",
       " 43,\n",
       " 45,\n",
       " 47,\n",
       " 49,\n",
       " 51,\n",
       " 53,\n",
       " 55,\n",
       " 57,\n",
       " 59,\n",
       " 61,\n",
       " 63,\n",
       " 65,\n",
       " 67,\n",
       " 69,\n",
       " 71,\n",
       " 73,\n",
       " 75,\n",
       " 77,\n",
       " 79,\n",
       " 81,\n",
       " 83,\n",
       " 85,\n",
       " 87,\n",
       " 89,\n",
       " 91,\n",
       " 93,\n",
       " 95,\n",
       " 97,\n",
       " 99]"
      ]
     },
     "execution_count": 54,
     "metadata": {},
     "output_type": "execute_result"
    }
   ],
   "source": [
    "l7"
   ]
  },
  {
   "cell_type": "code",
   "execution_count": null,
   "id": "cc87514f-ec6c-4275-9a38-092f2624d970",
   "metadata": {},
   "outputs": [],
   "source": []
  }
 ],
 "metadata": {
  "kernelspec": {
   "display_name": "Python 3 (ipykernel)",
   "language": "python",
   "name": "python3"
  },
  "language_info": {
   "codemirror_mode": {
    "name": "ipython",
    "version": 3
   },
   "file_extension": ".py",
   "mimetype": "text/x-python",
   "name": "python",
   "nbconvert_exporter": "python",
   "pygments_lexer": "ipython3",
   "version": "3.10.8"
  }
 },
 "nbformat": 4,
 "nbformat_minor": 5
}
